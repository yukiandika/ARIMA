{
  "nbformat": 4,
  "nbformat_minor": 0,
  "metadata": {
    "colab": {
      "provenance": []
    },
    "kernelspec": {
      "name": "python3",
      "display_name": "Python 3"
    },
    "language_info": {
      "name": "python"
    }
  },
  "cells": [
    {
      "cell_type": "markdown",
      "source": [
        "Import Library"
      ],
      "metadata": {
        "id": "2sDzRr4o6Jmq"
      }
    },
    {
      "cell_type": "code",
      "source": [
        "import pandas as pd\n",
        "import matplotlib.pyplot as plt\n",
        "from scipy.stats import boxcox "
      ],
      "metadata": {
        "id": "SFX38s77uFhD"
      },
      "execution_count": null,
      "outputs": []
    },
    {
      "cell_type": "markdown",
      "source": [
        "Membaca data dengan pandas"
      ],
      "metadata": {
        "id": "Eja2IV_X6Ibp"
      }
    },
    {
      "cell_type": "code",
      "execution_count": null,
      "metadata": {
        "colab": {
          "base_uri": "https://localhost:8080/",
          "height": 1000
        },
        "id": "JjqqyUt4sdTK",
        "outputId": "1c157e06-0f4f-482a-f322-14c6032ffe66"
      },
      "outputs": [
        {
          "output_type": "execute_result",
          "data": {
            "text/plain": [
              "        Waktu  Inflasi\n",
              "0  2018-08-01    -0.26\n",
              "1  2018-09-01    -0.11\n",
              "2  2018-10-01     0.13\n",
              "3  2018-11-01     0.46\n",
              "4  2018-12-01     0.57\n",
              "5  2019-01-01     0.42\n",
              "6  2019-02-01    -0.08\n",
              "7  2019-03-01     0.26\n",
              "8  2019-04-01     0.46\n",
              "9  2019-05-01     0.42\n",
              "10 2019-06-01     0.25\n",
              "11 2019-07-01     0.05\n",
              "12 2019-08-01     0.07\n",
              "13 2019-09-01    -0.07\n",
              "14 2019-10-01     0.18\n",
              "15 2019-11-01     0.31\n",
              "16 2019-12-01     0.46\n",
              "17 2020-01-01     0.27\n",
              "18 2020-02-01     0.40\n",
              "19 2020-03-01     0.07\n",
              "20 2020-04-01    -0.24\n",
              "21 2020-05-01     0.22\n",
              "22 2020-06-01     0.08\n",
              "23 2020-07-01    -0.08\n",
              "24 2020-08-01     0.04\n",
              "25 2020-09-01     0.03\n",
              "26 2020-10-01     0.08\n",
              "27 2020-11-01     0.13\n",
              "28 2020-12-01     0.48\n",
              "29 2021-01-01     0.54\n",
              "30 2021-02-01     0.14\n",
              "31 2021-03-01     0.08\n",
              "32 2021-04-01     0.01\n",
              "33 2021-05-01     0.07\n",
              "34 2021-06-01     0.05\n",
              "35 2021-07-01     0.11\n",
              "36 2021-08-01     0.05\n",
              "37 2021-09-01    -0.17\n",
              "38 2021-10-01     0.24\n",
              "39 2021-11-01     0.45\n",
              "40 2021-12-01     0.71\n",
              "41 2022-01-01     0.59\n",
              "42 2022-02-01     0.05\n",
              "43 2022-03-01     0.77\n",
              "44 2022-04-01     1.14\n",
              "45 2022-05-01     0.75\n",
              "46 2022-06-01     0.52\n",
              "47 2022-07-01     0.47"
            ],
            "text/html": [
              "\n",
              "  <div id=\"df-f8c412d0-f635-4164-81d3-630170f971de\">\n",
              "    <div class=\"colab-df-container\">\n",
              "      <div>\n",
              "<style scoped>\n",
              "    .dataframe tbody tr th:only-of-type {\n",
              "        vertical-align: middle;\n",
              "    }\n",
              "\n",
              "    .dataframe tbody tr th {\n",
              "        vertical-align: top;\n",
              "    }\n",
              "\n",
              "    .dataframe thead th {\n",
              "        text-align: right;\n",
              "    }\n",
              "</style>\n",
              "<table border=\"1\" class=\"dataframe\">\n",
              "  <thead>\n",
              "    <tr style=\"text-align: right;\">\n",
              "      <th></th>\n",
              "      <th>Waktu</th>\n",
              "      <th>Inflasi</th>\n",
              "    </tr>\n",
              "  </thead>\n",
              "  <tbody>\n",
              "    <tr>\n",
              "      <th>0</th>\n",
              "      <td>2018-08-01</td>\n",
              "      <td>-0.26</td>\n",
              "    </tr>\n",
              "    <tr>\n",
              "      <th>1</th>\n",
              "      <td>2018-09-01</td>\n",
              "      <td>-0.11</td>\n",
              "    </tr>\n",
              "    <tr>\n",
              "      <th>2</th>\n",
              "      <td>2018-10-01</td>\n",
              "      <td>0.13</td>\n",
              "    </tr>\n",
              "    <tr>\n",
              "      <th>3</th>\n",
              "      <td>2018-11-01</td>\n",
              "      <td>0.46</td>\n",
              "    </tr>\n",
              "    <tr>\n",
              "      <th>4</th>\n",
              "      <td>2018-12-01</td>\n",
              "      <td>0.57</td>\n",
              "    </tr>\n",
              "    <tr>\n",
              "      <th>5</th>\n",
              "      <td>2019-01-01</td>\n",
              "      <td>0.42</td>\n",
              "    </tr>\n",
              "    <tr>\n",
              "      <th>6</th>\n",
              "      <td>2019-02-01</td>\n",
              "      <td>-0.08</td>\n",
              "    </tr>\n",
              "    <tr>\n",
              "      <th>7</th>\n",
              "      <td>2019-03-01</td>\n",
              "      <td>0.26</td>\n",
              "    </tr>\n",
              "    <tr>\n",
              "      <th>8</th>\n",
              "      <td>2019-04-01</td>\n",
              "      <td>0.46</td>\n",
              "    </tr>\n",
              "    <tr>\n",
              "      <th>9</th>\n",
              "      <td>2019-05-01</td>\n",
              "      <td>0.42</td>\n",
              "    </tr>\n",
              "    <tr>\n",
              "      <th>10</th>\n",
              "      <td>2019-06-01</td>\n",
              "      <td>0.25</td>\n",
              "    </tr>\n",
              "    <tr>\n",
              "      <th>11</th>\n",
              "      <td>2019-07-01</td>\n",
              "      <td>0.05</td>\n",
              "    </tr>\n",
              "    <tr>\n",
              "      <th>12</th>\n",
              "      <td>2019-08-01</td>\n",
              "      <td>0.07</td>\n",
              "    </tr>\n",
              "    <tr>\n",
              "      <th>13</th>\n",
              "      <td>2019-09-01</td>\n",
              "      <td>-0.07</td>\n",
              "    </tr>\n",
              "    <tr>\n",
              "      <th>14</th>\n",
              "      <td>2019-10-01</td>\n",
              "      <td>0.18</td>\n",
              "    </tr>\n",
              "    <tr>\n",
              "      <th>15</th>\n",
              "      <td>2019-11-01</td>\n",
              "      <td>0.31</td>\n",
              "    </tr>\n",
              "    <tr>\n",
              "      <th>16</th>\n",
              "      <td>2019-12-01</td>\n",
              "      <td>0.46</td>\n",
              "    </tr>\n",
              "    <tr>\n",
              "      <th>17</th>\n",
              "      <td>2020-01-01</td>\n",
              "      <td>0.27</td>\n",
              "    </tr>\n",
              "    <tr>\n",
              "      <th>18</th>\n",
              "      <td>2020-02-01</td>\n",
              "      <td>0.40</td>\n",
              "    </tr>\n",
              "    <tr>\n",
              "      <th>19</th>\n",
              "      <td>2020-03-01</td>\n",
              "      <td>0.07</td>\n",
              "    </tr>\n",
              "    <tr>\n",
              "      <th>20</th>\n",
              "      <td>2020-04-01</td>\n",
              "      <td>-0.24</td>\n",
              "    </tr>\n",
              "    <tr>\n",
              "      <th>21</th>\n",
              "      <td>2020-05-01</td>\n",
              "      <td>0.22</td>\n",
              "    </tr>\n",
              "    <tr>\n",
              "      <th>22</th>\n",
              "      <td>2020-06-01</td>\n",
              "      <td>0.08</td>\n",
              "    </tr>\n",
              "    <tr>\n",
              "      <th>23</th>\n",
              "      <td>2020-07-01</td>\n",
              "      <td>-0.08</td>\n",
              "    </tr>\n",
              "    <tr>\n",
              "      <th>24</th>\n",
              "      <td>2020-08-01</td>\n",
              "      <td>0.04</td>\n",
              "    </tr>\n",
              "    <tr>\n",
              "      <th>25</th>\n",
              "      <td>2020-09-01</td>\n",
              "      <td>0.03</td>\n",
              "    </tr>\n",
              "    <tr>\n",
              "      <th>26</th>\n",
              "      <td>2020-10-01</td>\n",
              "      <td>0.08</td>\n",
              "    </tr>\n",
              "    <tr>\n",
              "      <th>27</th>\n",
              "      <td>2020-11-01</td>\n",
              "      <td>0.13</td>\n",
              "    </tr>\n",
              "    <tr>\n",
              "      <th>28</th>\n",
              "      <td>2020-12-01</td>\n",
              "      <td>0.48</td>\n",
              "    </tr>\n",
              "    <tr>\n",
              "      <th>29</th>\n",
              "      <td>2021-01-01</td>\n",
              "      <td>0.54</td>\n",
              "    </tr>\n",
              "    <tr>\n",
              "      <th>30</th>\n",
              "      <td>2021-02-01</td>\n",
              "      <td>0.14</td>\n",
              "    </tr>\n",
              "    <tr>\n",
              "      <th>31</th>\n",
              "      <td>2021-03-01</td>\n",
              "      <td>0.08</td>\n",
              "    </tr>\n",
              "    <tr>\n",
              "      <th>32</th>\n",
              "      <td>2021-04-01</td>\n",
              "      <td>0.01</td>\n",
              "    </tr>\n",
              "    <tr>\n",
              "      <th>33</th>\n",
              "      <td>2021-05-01</td>\n",
              "      <td>0.07</td>\n",
              "    </tr>\n",
              "    <tr>\n",
              "      <th>34</th>\n",
              "      <td>2021-06-01</td>\n",
              "      <td>0.05</td>\n",
              "    </tr>\n",
              "    <tr>\n",
              "      <th>35</th>\n",
              "      <td>2021-07-01</td>\n",
              "      <td>0.11</td>\n",
              "    </tr>\n",
              "    <tr>\n",
              "      <th>36</th>\n",
              "      <td>2021-08-01</td>\n",
              "      <td>0.05</td>\n",
              "    </tr>\n",
              "    <tr>\n",
              "      <th>37</th>\n",
              "      <td>2021-09-01</td>\n",
              "      <td>-0.17</td>\n",
              "    </tr>\n",
              "    <tr>\n",
              "      <th>38</th>\n",
              "      <td>2021-10-01</td>\n",
              "      <td>0.24</td>\n",
              "    </tr>\n",
              "    <tr>\n",
              "      <th>39</th>\n",
              "      <td>2021-11-01</td>\n",
              "      <td>0.45</td>\n",
              "    </tr>\n",
              "    <tr>\n",
              "      <th>40</th>\n",
              "      <td>2021-12-01</td>\n",
              "      <td>0.71</td>\n",
              "    </tr>\n",
              "    <tr>\n",
              "      <th>41</th>\n",
              "      <td>2022-01-01</td>\n",
              "      <td>0.59</td>\n",
              "    </tr>\n",
              "    <tr>\n",
              "      <th>42</th>\n",
              "      <td>2022-02-01</td>\n",
              "      <td>0.05</td>\n",
              "    </tr>\n",
              "    <tr>\n",
              "      <th>43</th>\n",
              "      <td>2022-03-01</td>\n",
              "      <td>0.77</td>\n",
              "    </tr>\n",
              "    <tr>\n",
              "      <th>44</th>\n",
              "      <td>2022-04-01</td>\n",
              "      <td>1.14</td>\n",
              "    </tr>\n",
              "    <tr>\n",
              "      <th>45</th>\n",
              "      <td>2022-05-01</td>\n",
              "      <td>0.75</td>\n",
              "    </tr>\n",
              "    <tr>\n",
              "      <th>46</th>\n",
              "      <td>2022-06-01</td>\n",
              "      <td>0.52</td>\n",
              "    </tr>\n",
              "    <tr>\n",
              "      <th>47</th>\n",
              "      <td>2022-07-01</td>\n",
              "      <td>0.47</td>\n",
              "    </tr>\n",
              "  </tbody>\n",
              "</table>\n",
              "</div>\n",
              "      <button class=\"colab-df-convert\" onclick=\"convertToInteractive('df-f8c412d0-f635-4164-81d3-630170f971de')\"\n",
              "              title=\"Convert this dataframe to an interactive table.\"\n",
              "              style=\"display:none;\">\n",
              "        \n",
              "  <svg xmlns=\"http://www.w3.org/2000/svg\" height=\"24px\"viewBox=\"0 0 24 24\"\n",
              "       width=\"24px\">\n",
              "    <path d=\"M0 0h24v24H0V0z\" fill=\"none\"/>\n",
              "    <path d=\"M18.56 5.44l.94 2.06.94-2.06 2.06-.94-2.06-.94-.94-2.06-.94 2.06-2.06.94zm-11 1L8.5 8.5l.94-2.06 2.06-.94-2.06-.94L8.5 2.5l-.94 2.06-2.06.94zm10 10l.94 2.06.94-2.06 2.06-.94-2.06-.94-.94-2.06-.94 2.06-2.06.94z\"/><path d=\"M17.41 7.96l-1.37-1.37c-.4-.4-.92-.59-1.43-.59-.52 0-1.04.2-1.43.59L10.3 9.45l-7.72 7.72c-.78.78-.78 2.05 0 2.83L4 21.41c.39.39.9.59 1.41.59.51 0 1.02-.2 1.41-.59l7.78-7.78 2.81-2.81c.8-.78.8-2.07 0-2.86zM5.41 20L4 18.59l7.72-7.72 1.47 1.35L5.41 20z\"/>\n",
              "  </svg>\n",
              "      </button>\n",
              "      \n",
              "  <style>\n",
              "    .colab-df-container {\n",
              "      display:flex;\n",
              "      flex-wrap:wrap;\n",
              "      gap: 12px;\n",
              "    }\n",
              "\n",
              "    .colab-df-convert {\n",
              "      background-color: #E8F0FE;\n",
              "      border: none;\n",
              "      border-radius: 50%;\n",
              "      cursor: pointer;\n",
              "      display: none;\n",
              "      fill: #1967D2;\n",
              "      height: 32px;\n",
              "      padding: 0 0 0 0;\n",
              "      width: 32px;\n",
              "    }\n",
              "\n",
              "    .colab-df-convert:hover {\n",
              "      background-color: #E2EBFA;\n",
              "      box-shadow: 0px 1px 2px rgba(60, 64, 67, 0.3), 0px 1px 3px 1px rgba(60, 64, 67, 0.15);\n",
              "      fill: #174EA6;\n",
              "    }\n",
              "\n",
              "    [theme=dark] .colab-df-convert {\n",
              "      background-color: #3B4455;\n",
              "      fill: #D2E3FC;\n",
              "    }\n",
              "\n",
              "    [theme=dark] .colab-df-convert:hover {\n",
              "      background-color: #434B5C;\n",
              "      box-shadow: 0px 1px 3px 1px rgba(0, 0, 0, 0.15);\n",
              "      filter: drop-shadow(0px 1px 2px rgba(0, 0, 0, 0.3));\n",
              "      fill: #FFFFFF;\n",
              "    }\n",
              "  </style>\n",
              "\n",
              "      <script>\n",
              "        const buttonEl =\n",
              "          document.querySelector('#df-f8c412d0-f635-4164-81d3-630170f971de button.colab-df-convert');\n",
              "        buttonEl.style.display =\n",
              "          google.colab.kernel.accessAllowed ? 'block' : 'none';\n",
              "\n",
              "        async function convertToInteractive(key) {\n",
              "          const element = document.querySelector('#df-f8c412d0-f635-4164-81d3-630170f971de');\n",
              "          const dataTable =\n",
              "            await google.colab.kernel.invokeFunction('convertToInteractive',\n",
              "                                                     [key], {});\n",
              "          if (!dataTable) return;\n",
              "\n",
              "          const docLinkHtml = 'Like what you see? Visit the ' +\n",
              "            '<a target=\"_blank\" href=https://colab.research.google.com/notebooks/data_table.ipynb>data table notebook</a>'\n",
              "            + ' to learn more about interactive tables.';\n",
              "          element.innerHTML = '';\n",
              "          dataTable['output_type'] = 'display_data';\n",
              "          await google.colab.output.renderOutput(dataTable, element);\n",
              "          const docLink = document.createElement('div');\n",
              "          docLink.innerHTML = docLinkHtml;\n",
              "          element.appendChild(docLink);\n",
              "        }\n",
              "      </script>\n",
              "    </div>\n",
              "  </div>\n",
              "  "
            ]
          },
          "metadata": {},
          "execution_count": 5
        }
      ],
      "source": [
        "df = pd.read_excel('/content/Data Nisa.xlsx', parse_dates=['Waktu'])\n",
        "df\n"
      ]
    },
    {
      "cell_type": "markdown",
      "source": [
        "Plot data inflasi"
      ],
      "metadata": {
        "id": "m6iL5z0-6QIJ"
      }
    },
    {
      "cell_type": "code",
      "source": [
        "def plot_df(df, x, y, title=\"\", xlabel='Waktu', ylabel='Inflasi/Deflasi', dpi=100):\n",
        "    plt.figure(figsize=(16,5), dpi=dpi)\n",
        "    plt.plot(x, y, color='tab:red')\n",
        "    plt.gca().set(title=title, xlabel=xlabel, ylabel=ylabel)\n",
        "    plt.show()\n",
        "\n",
        "plot_df(df, x=df['Waktu'], y=df['Inflasi'], title='Data Inflasi dan Deflasi Kota Yogyakarta pada Agustus 2018 sampai Juli 2022')    \n"
      ],
      "metadata": {
        "colab": {
          "base_uri": "https://localhost:8080/",
          "height": 480
        },
        "id": "rRs33CtluhVj",
        "outputId": "9f14689a-11ea-464c-c1f8-9beb49ed032c"
      },
      "execution_count": null,
      "outputs": [
        {
          "output_type": "display_data",
          "data": {
            "text/plain": [
              "<Figure size 1600x500 with 1 Axes>"
            ],
            "image/png": "[encoded data removed]"
          },
          "metadata": {
            "needs_background": "light"
          }
        }
      ]
    },
    {
      "cell_type": "markdown",
      "source": [
        "Terlihat grafik data sudah stasioner. Namun, untuk memastikan akan digunakan Augmented Dickey Fuller test (ADH Test)."
      ],
      "metadata": {
        "id": "geDqcew_6HCB"
      }
    },
    {
      "cell_type": "code",
      "source": [
        "from statsmodels.tsa.stattools import adfuller, kpss\n",
        "\n",
        "# ADF Test\n",
        "result = adfuller(df['Inflasi'].values, autolag='AIC')\n",
        "print(f'ADF Statistic: {result[0]}')\n",
        "print(f'p-value: {result[1]}')\n",
        "for key, value in result[4].items():\n",
        "    print('Critial Values:')\n",
        "    print(f'   {key}, {value}')"
      ],
      "metadata": {
        "colab": {
          "base_uri": "https://localhost:8080/"
        },
        "id": "hH3_XzwV6GUB",
        "outputId": "a04115e5-c8ec-43ce-b65b-2603839b8ee6"
      },
      "execution_count": null,
      "outputs": [
        {
          "output_type": "stream",
          "name": "stdout",
          "text": [
            "ADF Statistic: -3.659973323115725\n",
            "p-value: 0.004712718679418789\n",
            "Critial Values:\n",
            "   1%, -3.5778480370438146\n",
            "Critial Values:\n",
            "   5%, -2.925338105429433\n",
            "Critial Values:\n",
            "   10%, -2.6007735310095064\n"
          ]
        }
      ]
    },
    {
      "cell_type": "markdown",
      "source": [
        "Uji Stasioneritas (ADH Test)\n",
        "\n",
        "- Hipotesis\n",
        "H0 : terdapat unit root sehingga data tidak stasioner\n",
        "H1 : tidak terdapat unit root sehingga data stasioner\n",
        "\n",
        "- Taraf Signifikansi\n",
        "𝛼=5%\n",
        "\n",
        "- Daerah Kritis\n",
        "H0 ditolak jika nilai p-value < 𝛼=5%\n",
        "\n",
        "- Keputusan\n",
        "Karena diperoleh p-value=0.0011135253070359778 < 𝛼=0.05, maka H0 ditolak.\n",
        "\n",
        "- Kesimpulan\n",
        "Pada taraf signifikansi 5%, H0 ditolak karena p-value=0.0011135253070359778< 𝛼=0.05. Sehingga dapat disimpulkan bahwa data inflasi dan deflasi yang telah ditransformasi sudah stasioner."
      ],
      "metadata": {
        "id": "PaPzNESK8BUx"
      }
    },
    {
      "cell_type": "markdown",
      "source": [
        "#"
      ],
      "metadata": {
        "id": "DXGtzApW9rv4"
      }
    },
    {
      "cell_type": "code",
      "source": [
        "#Plot ACF\n",
        "from statsmodels.graphics.tsaplots import plot_acf\n",
        "plot_acf(df['Inflasi'],alpha=0.05);"
      ],
      "metadata": {
        "colab": {
          "base_uri": "https://localhost:8080/",
          "height": 281
        },
        "id": "gSFWFTrj9IdL",
        "outputId": "b13f4945-274f-4e72-ae1a-8a71be8cca88"
      },
      "execution_count": null,
      "outputs": [
        {
          "output_type": "display_data",
          "data": {
            "text/plain": [
              "<Figure size 432x288 with 1 Axes>"
            ],
            "image/png": "[encoded data removed]"
          },
          "metadata": {
            "needs_background": "light"
          }
        }
      ]
    },
    {
      "cell_type": "markdown",
      "source": [
        "Dapat diperhatikan bahwa dari plot ACF diatas, terdapat 2 lag pertama\n",
        "yang keluar dari interval konfidensi sehingga pemodelan yang\n",
        "memungkinkan adalah MA(2)"
      ],
      "metadata": {
        "id": "b2gxci-m9_5g"
      }
    },
    {
      "cell_type": "code",
      "source": [
        "#plot pacf\n",
        "from statsmodels.graphics.tsaplots import plot_pacf\n",
        "plot_pacf(df['Inflasi'],alpha=0.05);\n"
      ],
      "metadata": {
        "colab": {
          "base_uri": "https://localhost:8080/",
          "height": 281
        },
        "id": "5vQBoyYf-_Ew",
        "outputId": "ec02c0d7-0cd7-4549-a3dc-0903f53b4be0"
      },
      "execution_count": null,
      "outputs": [
        {
          "output_type": "display_data",
          "data": {
            "text/plain": [
              "<Figure size 432x288 with 1 Axes>"
            ],
            "image/png": "[encoded data removed]"
          },
          "metadata": {
            "needs_background": "light"
          }
        }
      ]
    },
    {
      "cell_type": "markdown",
      "source": [
        "Dapat diperhatikan bahwa dari plot PACF diatas, terdapat 2 lag pertama yang keluar dari interval konfidensi sehingga pemodelan yang memungkinkan adalah AR(2)."
      ],
      "metadata": {
        "id": "iMHwpSz_AmIi"
      }
    },
    {
      "cell_type": "markdown",
      "source": [
        "Sehingga, dapat diperoleh pemodelan ARIMA yang mungkin berdasarkan plot ACF dan PACF dengan derajat 𝑝=2,𝑑=0, dan 𝑞=2 adalah\n",
        "1. AR(2) atau ARIMA(2,0,0)\n",
        "2. MA(2) atau ARIMA(0,0,2)\n",
        "3. ARMA(2,2) atau ARIMA(2,0,2)"
      ],
      "metadata": {
        "id": "NO-yDVVgBC1K"
      }
    },
    {
      "cell_type": "code",
      "source": [
        "#AR(2) atau ARIMA(2,0,0)\n",
        "from statsmodels.tsa.arima.model import ARIMA\n",
        "mod1= ARIMA(df['Inflasi'], order=(2,0,0))\n",
        "res1= mod1.fit()\n",
        "print(res1.summary())\n",
        "\n"
      ],
      "metadata": {
        "colab": {
          "base_uri": "https://localhost:8080/"
        },
        "id": "ISRuH6-LET8B",
        "outputId": "c8ef1cac-4b39-4141-8d1c-756a7358c7e3"
      },
      "execution_count": null,
      "outputs": [
        {
          "output_type": "stream",
          "name": "stdout",
          "text": [
            "                               SARIMAX Results                                \n",
            "==============================================================================\n",
            "Dep. Variable:                Inflasi   No. Observations:                   48\n",
            "Model:                 ARIMA(2, 0, 0)   Log Likelihood                   2.930\n",
            "Date:                Mon, 10 Oct 2022   AIC                              2.140\n",
            "Time:                        05:51:29   BIC                              9.625\n",
            "Sample:                             0   HQIC                             4.969\n",
            "                                 - 48                                         \n",
            "Covariance Type:                  opg                                         \n",
            "==============================================================================\n",
            "                 coef    std err          z      P>|z|      [0.025      0.975]\n",
            "------------------------------------------------------------------------------\n",
            "const          0.2363      0.067      3.536      0.000       0.105       0.367\n",
            "ar.L1          0.7229      0.122      5.916      0.000       0.483       0.962\n",
            "ar.L2         -0.2318      0.128     -1.810      0.070      -0.483       0.019\n",
            "sigma2         0.0512      0.010      5.287      0.000       0.032       0.070\n",
            "===================================================================================\n",
            "Ljung-Box (L1) (Q):                   0.02   Jarque-Bera (JB):                 5.14\n",
            "Prob(Q):                              0.89   Prob(JB):                         0.08\n",
            "Heteroskedasticity (H):               2.22   Skew:                             0.64\n",
            "Prob(H) (two-sided):                  0.12   Kurtosis:                         3.95\n",
            "===================================================================================\n",
            "\n",
            "Warnings:\n",
            "[1] Covariance matrix calculated using the outer product of gradients (complex-step).\n"
          ]
        }
      ]
    },
    {
      "cell_type": "markdown",
      "source": [
        "Diperoleh persamaan ARIMA(2,0,0) yaitu $Z_t=0.2363+0.7229Z_{t-1}-0.2318Z_{t-2}+a_t$\n",
        "\n",
        "Artinya, nilai inflasi dan deflasi pada periode tahun ini ditentukan oleh\n",
        "0.7229 nilai inflasi dan deflasi 1 tahun lalu,-0.2318 nilai inflasi dan deflasi 2 tahun lalu, serta komponen error pada tahun ini."
      ],
      "metadata": {
        "id": "OxWlpKEIIpmX"
      }
    },
    {
      "cell_type": "code",
      "source": [
        "#MA(2) atau ARIMA(0,0,2)\n",
        "from statsmodels.tsa.arima.model import ARIMA\n",
        "mod2= ARIMA(df['Inflasi'], order=(0,0,2))\n",
        "res2= mod2.fit()\n",
        "print(res2.summary())\n",
        "\n"
      ],
      "metadata": {
        "colab": {
          "base_uri": "https://localhost:8080/"
        },
        "id": "n9SLCK-m-2_H",
        "outputId": "3f0b226e-0314-4dad-a404-0424457420b5"
      },
      "execution_count": null,
      "outputs": [
        {
          "output_type": "stream",
          "name": "stdout",
          "text": [
            "                               SARIMAX Results                                \n",
            "==============================================================================\n",
            "Dep. Variable:                Inflasi   No. Observations:                   48\n",
            "Model:                 ARIMA(0, 0, 2)   Log Likelihood                   4.509\n",
            "Date:                Mon, 10 Oct 2022   AIC                             -1.018\n",
            "Time:                        05:51:29   BIC                              6.467\n",
            "Sample:                             0   HQIC                             1.810\n",
            "                                 - 48                                         \n",
            "Covariance Type:                  opg                                         \n",
            "==============================================================================\n",
            "                 coef    std err          z      P>|z|      [0.025      0.975]\n",
            "------------------------------------------------------------------------------\n",
            "const          0.2379      0.061      3.875      0.000       0.118       0.358\n",
            "ma.L1          0.9484     78.029      0.012      0.990    -151.987     153.883\n",
            "ma.L2         -0.0515      4.033     -0.013      0.990      -7.956       7.853\n",
            "sigma2         0.0448      3.499      0.013      0.990      -6.813       6.903\n",
            "===================================================================================\n",
            "Ljung-Box (L1) (Q):                   0.07   Jarque-Bera (JB):                 2.67\n",
            "Prob(Q):                              0.80   Prob(JB):                         0.26\n",
            "Heteroskedasticity (H):               1.57   Skew:                             0.55\n",
            "Prob(H) (two-sided):                  0.38   Kurtosis:                         3.32\n",
            "===================================================================================\n",
            "\n",
            "Warnings:\n",
            "[1] Covariance matrix calculated using the outer product of gradients (complex-step).\n"
          ]
        }
      ]
    },
    {
      "cell_type": "markdown",
      "source": [
        "Diperoleh persamaan ARIMA(0,0,2) yaitu $Z_t=0.2379+a_t + 0.9484a_{t-1}-0.0515a_{t-2}$\n",
        "\n",
        "Artinya, nilai inflasi dan deflasi pada periode tahun ini ditentukan komponen error pada tahun ini, dan 0.9484 komponen error 1 tahun sebelumnya serta -0.0515 komponen error 2 tahun."
      ],
      "metadata": {
        "id": "LKPsUMfOJ_v4"
      }
    },
    {
      "cell_type": "code",
      "source": [
        "#ARMA(2,2) atau ARIMA(2,0,2)\n",
        "from statsmodels.tsa.arima.model import ARIMA\n",
        "mod3= ARIMA(df['Inflasi'], order=(2,0,2))\n",
        "res3= mod3.fit()\n",
        "print(res3.summary())"
      ],
      "metadata": {
        "colab": {
          "base_uri": "https://localhost:8080/"
        },
        "id": "kTptffldErbA",
        "outputId": "bbb67507-5a51-4729-dcd4-e37a6c4ac9a2"
      },
      "execution_count": null,
      "outputs": [
        {
          "output_type": "stream",
          "name": "stderr",
          "text": [
            "/usr/local/lib/python3.7/dist-packages/statsmodels/tsa/statespace/sarimax.py:966: UserWarning: Non-stationary starting autoregressive parameters found. Using zeros as starting parameters.\n",
            "  warn('Non-stationary starting autoregressive parameters'\n",
            "/usr/local/lib/python3.7/dist-packages/statsmodels/tsa/statespace/sarimax.py:978: UserWarning: Non-invertible starting MA parameters found. Using zeros as starting parameters.\n",
            "  warn('Non-invertible starting MA parameters found.'\n"
          ]
        },
        {
          "output_type": "stream",
          "name": "stdout",
          "text": [
            "                               SARIMAX Results                                \n",
            "==============================================================================\n",
            "Dep. Variable:                Inflasi   No. Observations:                   48\n",
            "Model:                 ARIMA(2, 0, 2)   Log Likelihood                   6.124\n",
            "Date:                Mon, 10 Oct 2022   AIC                             -0.247\n",
            "Time:                        05:51:30   BIC                             10.980\n",
            "Sample:                             0   HQIC                             3.996\n",
            "                                 - 48                                         \n",
            "Covariance Type:                  opg                                         \n",
            "==============================================================================\n",
            "                 coef    std err          z      P>|z|      [0.025      0.975]\n",
            "------------------------------------------------------------------------------\n",
            "const          0.2350      0.077      3.065      0.002       0.085       0.385\n",
            "ar.L1         -0.1575      0.772     -0.204      0.838      -1.670       1.355\n",
            "ar.L2          0.2511      0.250      1.004      0.315      -0.239       0.741\n",
            "ma.L1          1.1001     13.496      0.082      0.935     -25.352      27.552\n",
            "ma.L2          0.1006      1.824      0.055      0.956      -3.475       3.676\n",
            "sigma2         0.0424      0.551      0.077      0.939      -1.037       1.122\n",
            "===================================================================================\n",
            "Ljung-Box (L1) (Q):                   0.03   Jarque-Bera (JB):                 3.94\n",
            "Prob(Q):                              0.85   Prob(JB):                         0.14\n",
            "Heteroskedasticity (H):               1.67   Skew:                             0.60\n",
            "Prob(H) (two-sided):                  0.32   Kurtosis:                         3.72\n",
            "===================================================================================\n",
            "\n",
            "Warnings:\n",
            "[1] Covariance matrix calculated using the outer product of gradients (complex-step).\n"
          ]
        },
        {
          "output_type": "stream",
          "name": "stderr",
          "text": [
            "/usr/local/lib/python3.7/dist-packages/statsmodels/base/model.py:568: ConvergenceWarning: Maximum Likelihood optimization failed to converge. Check mle_retvals\n",
            "  ConvergenceWarning)\n"
          ]
        }
      ]
    },
    {
      "cell_type": "markdown",
      "source": [
        "Diperoleh persamaan ARIMA(2,0,2) yaitu $Z_t=0.2350 -0.1575Z_{t-1}+0.2511Z_{t-2}+a_t+1.1001a_{t-1}+0.1006a_{t-2}$\n",
        "\n",
        "Artinya, nilai inflasi dan deflasi pada periode tahun ini ditentukan oleh -0.1575 nilai inflasi dan deflasi 1 tahun lalu, 0.2511 nilai inflasi dan deflasi 2 tahun lalu, komponen error pada tahun ini, 1.1001 komponen error 1 tahun sebelumnya, dan 0.1006 komponen error 2 tahun sebelumnya."
      ],
      "metadata": {
        "id": "uLC20Vos1eti"
      }
    },
    {
      "cell_type": "code",
      "source": [
        "#AR(1) atau ARIMA(1,0,0)\n",
        "from statsmodels.tsa.arima.model import ARIMA\n",
        "mod4= ARIMA(df['Inflasi'], order=(1,0,0))\n",
        "res4= mod4.fit()\n",
        "print(res4.summary())\n",
        "\n"
      ],
      "metadata": {
        "colab": {
          "base_uri": "https://localhost:8080/"
        },
        "id": "WJXtwr0wExCX",
        "outputId": "6e40bf49-89e5-4b43-ef08-c6679ceac498"
      },
      "execution_count": null,
      "outputs": [
        {
          "output_type": "stream",
          "name": "stdout",
          "text": [
            "                               SARIMAX Results                                \n",
            "==============================================================================\n",
            "Dep. Variable:                Inflasi   No. Observations:                   48\n",
            "Model:                 ARIMA(1, 0, 0)   Log Likelihood                   1.665\n",
            "Date:                Mon, 10 Oct 2022   AIC                              2.671\n",
            "Time:                        05:51:30   BIC                              8.284\n",
            "Sample:                             0   HQIC                             4.792\n",
            "                                 - 48                                         \n",
            "Covariance Type:                  opg                                         \n",
            "==============================================================================\n",
            "                 coef    std err          z      P>|z|      [0.025      0.975]\n",
            "------------------------------------------------------------------------------\n",
            "const          0.2332      0.079      2.969      0.003       0.079       0.387\n",
            "ar.L1          0.5940      0.117      5.059      0.000       0.364       0.824\n",
            "sigma2         0.0541      0.011      5.109      0.000       0.033       0.075\n",
            "===================================================================================\n",
            "Ljung-Box (L1) (Q):                   0.59   Jarque-Bera (JB):                 1.40\n",
            "Prob(Q):                              0.44   Prob(JB):                         0.50\n",
            "Heteroskedasticity (H):               1.87   Skew:                             0.39\n",
            "Prob(H) (two-sided):                  0.22   Kurtosis:                         3.28\n",
            "===================================================================================\n",
            "\n",
            "Warnings:\n",
            "[1] Covariance matrix calculated using the outer product of gradients (complex-step).\n"
          ]
        }
      ]
    },
    {
      "cell_type": "code",
      "source": [
        "#MA(1) atau ARIMA(0,0,1)\n",
        "from statsmodels.tsa.arima.model import ARIMA\n",
        "mod5= ARIMA(df['Inflasi'], order=(0,0,1))\n",
        "res5= mod5.fit()\n",
        "print(res5.summary())\n",
        "\n"
      ],
      "metadata": {
        "colab": {
          "base_uri": "https://localhost:8080/"
        },
        "id": "2bRMS7rC7B9a",
        "outputId": "4e162cac-6cec-4f80-8be2-9547c2f4c1ad"
      },
      "execution_count": null,
      "outputs": [
        {
          "output_type": "stream",
          "name": "stdout",
          "text": [
            "                               SARIMAX Results                                \n",
            "==============================================================================\n",
            "Dep. Variable:                Inflasi   No. Observations:                   48\n",
            "Model:                 ARIMA(0, 0, 1)   Log Likelihood                   4.419\n",
            "Date:                Mon, 10 Oct 2022   AIC                             -2.838\n",
            "Time:                        05:51:30   BIC                              2.776\n",
            "Sample:                             0   HQIC                            -0.716\n",
            "                                 - 48                                         \n",
            "Covariance Type:                  opg                                         \n",
            "==============================================================================\n",
            "                 coef    std err          z      P>|z|      [0.025      0.975]\n",
            "------------------------------------------------------------------------------\n",
            "const          0.2376      0.063      3.745      0.000       0.113       0.362\n",
            "ma.L1          0.9999     21.033      0.048      0.962     -40.225      42.225\n",
            "sigma2         0.0449      0.945      0.048      0.962      -1.808       1.898\n",
            "===================================================================================\n",
            "Ljung-Box (L1) (Q):                   0.47   Jarque-Bera (JB):                 2.70\n",
            "Prob(Q):                              0.49   Prob(JB):                         0.26\n",
            "Heteroskedasticity (H):               1.52   Skew:                             0.55\n",
            "Prob(H) (two-sided):                  0.41   Kurtosis:                         3.40\n",
            "===================================================================================\n",
            "\n",
            "Warnings:\n",
            "[1] Covariance matrix calculated using the outer product of gradients (complex-step).\n"
          ]
        }
      ]
    },
    {
      "cell_type": "code",
      "source": [
        "#ARIMA(1,0,1)\n",
        "from statsmodels.tsa.arima.model import ARIMA\n",
        "mod6= ARIMA(df['Inflasi'], order=(1,0,1))\n",
        "res6= mod6.fit()\n",
        "print(res6.summary())\n",
        "\n"
      ],
      "metadata": {
        "colab": {
          "base_uri": "https://localhost:8080/"
        },
        "id": "PaBfhd_o7LBb",
        "outputId": "66a95aea-9e74-4711-e19b-0d16adf84347"
      },
      "execution_count": null,
      "outputs": [
        {
          "output_type": "stream",
          "name": "stdout",
          "text": [
            "                               SARIMAX Results                                \n",
            "==============================================================================\n",
            "Dep. Variable:                Inflasi   No. Observations:                   48\n",
            "Model:                 ARIMA(1, 0, 1)   Log Likelihood                   4.556\n",
            "Date:                Mon, 10 Oct 2022   AIC                             -1.112\n",
            "Time:                        05:51:30   BIC                              6.372\n",
            "Sample:                             0   HQIC                             1.716\n",
            "                                 - 48                                         \n",
            "Covariance Type:                  opg                                         \n",
            "==============================================================================\n",
            "                 coef    std err          z      P>|z|      [0.025      0.975]\n",
            "------------------------------------------------------------------------------\n",
            "const          0.2381      0.060      3.969      0.000       0.121       0.356\n",
            "ar.L1         -0.0783      0.149     -0.526      0.599      -0.370       0.214\n",
            "ma.L1          0.9999     42.554      0.023      0.981     -82.405      84.405\n",
            "sigma2         0.0448      1.907      0.023      0.981      -3.693       3.782\n",
            "===================================================================================\n",
            "Ljung-Box (L1) (Q):                   0.00   Jarque-Bera (JB):                 2.66\n",
            "Prob(Q):                              0.97   Prob(JB):                         0.26\n",
            "Heteroskedasticity (H):               1.60   Skew:                             0.56\n",
            "Prob(H) (two-sided):                  0.36   Kurtosis:                         3.29\n",
            "===================================================================================\n",
            "\n",
            "Warnings:\n",
            "[1] Covariance matrix calculated using the outer product of gradients (complex-step).\n"
          ]
        },
        {
          "output_type": "stream",
          "name": "stderr",
          "text": [
            "/usr/local/lib/python3.7/dist-packages/statsmodels/base/model.py:568: ConvergenceWarning: Maximum Likelihood optimization failed to converge. Check mle_retvals\n",
            "  ConvergenceWarning)\n"
          ]
        }
      ]
    },
    {
      "cell_type": "code",
      "source": [
        "res4"
      ],
      "metadata": {
        "colab": {
          "base_uri": "https://localhost:8080/"
        },
        "id": "FHxNuDSVw2GT",
        "outputId": "aa86cc3e-ffb5-4948-d1ab-bafe42e86fe6"
      },
      "execution_count": null,
      "outputs": [
        {
          "output_type": "execute_result",
          "data": {
            "text/plain": [
              "<statsmodels.tsa.arima.model.ARIMAResultsWrapper at 0x7f2f8cb44e10>"
            ]
          },
          "metadata": {},
          "execution_count": 16
        }
      ]
    },
    {
      "cell_type": "code",
      "source": [
        "from statsmodels.graphics.tsaplots import plot_predict\n",
        "x=plot_predict(res4,start=48,end=52)"
      ],
      "metadata": {
        "colab": {
          "base_uri": "https://localhost:8080/",
          "height": 265
        },
        "id": "M5Fl-P4-v4oB",
        "outputId": "82d8e8d9-84c9-4c06-8cd3-abb546b6da8f"
      },
      "execution_count": null,
      "outputs": [
        {
          "output_type": "display_data",
          "data": {
            "text/plain": [
              "<Figure size 432x288 with 1 Axes>"
            ],
            "image/png": "[encoded data removed]"
          },
          "metadata": {
            "needs_background": "light"
          }
        }
      ]
    },
    {
      "cell_type": "code",
      "source": [
        "forecasts4=res4.forecast(steps=5,alpha=0.5)"
      ],
      "metadata": {
        "id": "xTWm5m6KsQgK"
      },
      "execution_count": null,
      "outputs": []
    },
    {
      "cell_type": "code",
      "source": [
        "forecasts4"
      ],
      "metadata": {
        "colab": {
          "base_uri": "https://localhost:8080/"
        },
        "id": "-d_SmxEavxUK",
        "outputId": "1c3e6a80-3b49-4af9-9393-0e9db396ea12"
      },
      "execution_count": null,
      "outputs": [
        {
          "output_type": "execute_result",
          "data": {
            "text/plain": [
              "48    0.373865\n",
              "49    0.316761\n",
              "50    0.282841\n",
              "51    0.262694\n",
              "52    0.250726\n",
              "Name: predicted_mean, dtype: float64"
            ]
          },
          "metadata": {},
          "execution_count": 19
        }
      ]
    }
  ]
}